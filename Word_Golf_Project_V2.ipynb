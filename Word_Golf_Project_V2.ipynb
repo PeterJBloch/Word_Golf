{
 "cells": [
  {
   "cell_type": "markdown",
   "metadata": {},
   "source": [
    "## 27 Hour Coding Challenge:  Word Golf!\n",
    "\n",
    "This is a challenging problem that will require not only all of your current coding skills but will also force you to think of new ways to accomplish things you've never done before.  LEVEL 1 will test your coding chops and perhaps even give you a false sense of confidence. The LEVELS that follow will test your mettle, your grit, your ability to endure against odds and against seemingly insurmountable challenges.  You have 27 hours to accomplish as many of the challenges listed below as you can complete.  LEVEL 1 should be doable using only the two class periods allotted to this Challenge -- climbing beyond LEVEL 1, however, will require additional grit, determination, struggle and a little moxie.  Do you have what it takes?\n",
    "\n",
    "Like most things worth doing, this won't be easy.  Like most things worth doing, you will receive no grade for the task.  There is no prize but honor, no fee but struggle, but the glory of accomplishment is real!\n",
    "\n",
    "### On to the Game:\n",
    "\n",
    "You have been contracted by a major game development company to build a gaming engine for their blockbuster game, **Word Golf**(tm).\n",
    "\n",
    "Here are the rules of **Word Golf**.  You are given two words of equal length, and you must find a path between those two words by only changing a single letter at a time to create a path of real words from the first word to the second.\n",
    "\n",
    "For example:  If you are given these two words: **CARS** and **DRAT**, you might find a path like this:\n",
    "\n",
    "    CARS -> CART -> DART -> DAFT -> DEFT -> DEBT -> DEET -> BEET -> BEAT -> BRAT -> DRAT\n",
    "\n",
    "This would be a score of 10 because there are 10 steps between these two words on this path.\n",
    "\n",
    "Your job is to create the following:\n",
    "\n",
    "### LEVEL 1 (base camp and the start of the climb)\n",
    "\n",
    "    1.1: Write a function that takes in 2 words of equal length and determines if they are only one Word Golf move away from each other.  For example:  CART and CARS would return True, but CARS and BARN would return False.  CART only needs to change one letter T->S to get to CARS, but CARS would need to change C->B and S->N to get to BARN, so they are not \"one away.\"\n",
    "    1.2: Write a program or function that takes in two words and a list of words and determines if the list is a  valid solution to get from word 1 to word 2.  If it is NOT a valid solution, it returns False.  If it is a valid solution, it returns the SCORE.  For example:\n",
    "    valid_score('cats','yarn',['cats','cars','bars','barn','yarn']) would return 4 because it is valid and takes four steps to get from CATS to YARN\n",
    "    valid_score('cats','yarn',['cats','bars','barn','yarn']) would return FALSE because you can't get from CATS to BARS in one step.\n",
    "    * note for 1.2, you do NOT need to validate if each of the words are actually English words\n",
    "    \n",
    "SHOW YOUR SOLUTIONS BEFORE MOVING ON\n",
    "    \n"
   ]
  },
  {
   "cell_type": "code",
   "execution_count": 28,
   "metadata": {},
   "outputs": [
    {
     "name": "stdout",
     "output_type": "stream",
     "text": [
      "False\n",
      "True\n",
      "True\n",
      "False\n",
      "3\n",
      "2\n",
      "False\n"
     ]
    }
   ],
   "source": [
    "#Level 1 Code and Functions\n",
    "def one_away(word1,word2):\n",
    "    possible = True\n",
    "    if len(word1)!=len(word2):\n",
    "        return False\n",
    "    if word1 ==word2:\n",
    "        return False\n",
    "    for i in range(0,len(word1)):\n",
    "        if word1[i]==word2[i]:\n",
    "            pass\n",
    "        elif possible == False:\n",
    "            return False\n",
    "        else:\n",
    "            possible = False\n",
    "    return True\n",
    "            \n",
    "print(one_away('dogs','cats'))\n",
    "print(one_away('dogs','dots'))\n",
    "print(one_away('dots','dote'))\n",
    "print(one_away('cat','cat'))\n",
    "\n",
    "#1.2\n",
    "def path_length(word1,word2,path):\n",
    "    counter = 0\n",
    "    wordlist = []\n",
    "    wordlist.append(word1)\n",
    "    for word in path:\n",
    "        wordlist.append(word)\n",
    "    wordlist.append(word2)\n",
    "    for i in range(1,len(wordlist)):\n",
    "        if one_away(wordlist[i],wordlist[i-1]):\n",
    "            counter+=1\n",
    "        else:\n",
    "            return False\n",
    "    return counter\n",
    "print(path_length('cats','dogs',['cots','dots']))\n",
    "print(path_length('mat','bit',['mit']))\n",
    "print(path_length('john','pete',['jote']))"
   ]
  },
  {
   "cell_type": "markdown",
   "metadata": {
    "collapsed": true
   },
   "source": [
    "### Level 2 (the route gets steeper)\n",
    "\n",
    "    2.1:  Improve your function in 1.2 to make it also check that the words are valid English words (using the SOWPODS dictionary we used for the Scrabble project).\n",
    "    2.2:  Write a fuction that finds all the words that are \"one away\" from a given word.  For examples:\n",
    "    one_away('matt') would return:\n",
    "    ['batt', 'malt', 'mart', 'mast', 'mate', 'math', 'mats', 'maty', 'maut', 'mitt', 'mott', 'mutt', 'tatt', 'watt']\n",
    "    one_away('chad') returns:\n",
    "    ['chai', 'chal', 'cham', 'chao', 'chap', 'char', 'chas', 'chat', 'chav', 'chaw', 'chay', 'chid', 'clad', 'shad']\n",
    "    one_away('lauren') returns only ['laurel']\n",
    "    \n",
    "SHOW YOUR SOLUTIONS BEFORE MOVING ON\n",
    "\n"
   ]
  },
  {
   "cell_type": "code",
   "execution_count": 71,
   "metadata": {},
   "outputs": [
    {
     "name": "stdout",
     "output_type": "stream",
     "text": [
      "3\n",
      "2\n",
      "False\n",
      "False\n",
      "['batt', 'malt', 'mart', 'mast', 'mate', 'math', 'mats', 'maty', 'maut', 'mitt', 'mott', 'mutt', 'tatt', 'watt']\n",
      "['chai', 'chal', 'cham', 'chao', 'chap', 'char', 'chas', 'chat', 'chav', 'chaw', 'chay', 'chid', 'clad', 'shad']\n",
      "['laurel']\n",
      "['ace', 'age', 'ake', 'ale', 'ane', 'apo', 'app', 'apt', 'are', 'ate', 'aue', 'ave', 'awe', 'axe', 'aye', 'ope']\n",
      "['ban', 'can', 'dan', 'ean', 'fan', 'gan', 'han', 'maa', 'mac', 'mad', 'mae', 'mag', 'mak', 'mal', 'mam', 'map', 'mar', 'mas', 'mat', 'maw', 'max', 'may', 'men', 'mon', 'mun', 'nan', 'pan', 'ran', 'san', 'tan', 'van', 'wan']\n"
     ]
    }
   ],
   "source": [
    "# Level 2 Code and Functions\n",
    "def path_length(word1,word2,path):\n",
    "    sowpods_list=[]\n",
    "    for line in open('sowpods.txt'):\n",
    "        sowpods_list.append(line.strip())\n",
    "    counter = 0\n",
    "    if word1 and word2 in sowpods_list:\n",
    "        wordlist = []\n",
    "        wordlist.append(word1)\n",
    "        for word in path:\n",
    "            if word in sowpods_list:\n",
    "                pass\n",
    "            else:\n",
    "                return False\n",
    "            wordlist.append(word)\n",
    "        wordlist.append(word2)\n",
    "        for i in range(1,len(wordlist)):\n",
    "            if one_away(wordlist[i],wordlist[i-1]):\n",
    "                counter+=1\n",
    "            else:\n",
    "                return False\n",
    "    else:\n",
    "        return False\n",
    "    return counter\n",
    "print(path_length('cats','dogs',['cots','dots']))\n",
    "print(path_length('mat','bit',['bat']))\n",
    "print(path_length('mat','bit',['mit']))\n",
    "print(path_length('john','pete',['jote']))\n",
    "\n",
    "#2.2\n",
    "def all_one_away(word):\n",
    "    away_list = []\n",
    "    sowpods_list=[]\n",
    "    for line in open('sowpods.txt'):\n",
    "        sowpods_list.append(line.strip())\n",
    "    for single in sowpods_list:\n",
    "        if one_away(single,word):\n",
    "            away_list.append(single)\n",
    "    return away_list\n",
    "\n",
    "print(all_one_away('matt'))\n",
    "print(all_one_away('chad'))\n",
    "print(all_one_away('lauren'))\n",
    "print(all_one_away('ape'))\n",
    "print(all_one_away('man'))"
   ]
  },
  {
   "cell_type": "markdown",
   "metadata": {
    "collapsed": true
   },
   "source": [
    "### Level 3 (air is getting thinner up here, and less crowded)\n",
    "    \n",
    "    3.1 Write a function that returns how close of a match one word is to another.  For example:\n",
    "    score_word('cars','bars') would return 3 because 'bars' has 3 letters in the same location as 'cars'\n",
    "    score_word('matt','past') would return 2 because 'past' has 2 letters in the same place as 'matt'\n",
    "    \n",
    "    3.2 Write a function or group of functions that finds a path between two given words of 3 or more letters.  This program should return a valid path, even if it is not the shortest path.  Your code might not work for all words yet, but if you get a reasonable number of solutions for some simple paths, this is success!\n",
    "    for example:  find_path('cats','dogs') might return ['cats', 'cags', 'cogs', 'dogs']\n",
    "    \n",
    "SHOW YOUR SOLUTIONS BEFORE MOVING ON\n",
    "\n"
   ]
  },
  {
   "cell_type": "code",
   "execution_count": 54,
   "metadata": {},
   "outputs": [
    {
     "name": "stdout",
     "output_type": "stream",
     "text": [
      "1\n",
      "3\n",
      "['cats', 'cots', 'cogs', 'dogs']\n",
      "['mat', 'bat', 'bot']\n"
     ]
    }
   ],
   "source": [
    "# Level 3 Code and Functions\n",
    "def score_word(word1,word2):\n",
    "    counter =0\n",
    "    for i in range(0,len(word1)):\n",
    "        if word1[i]==word2[i]:\n",
    "            counter+=1\n",
    "        else:\n",
    "            pass\n",
    "    return counter\n",
    "\n",
    "print(score_word('cats','dogs'))\n",
    "print(score_word('bars','cars'))\n",
    "\n",
    "#3.2\n",
    "def find_path(word1,word2):\n",
    "    sowpods_list=[]\n",
    "    for line in open('sowpods.txt'):\n",
    "        sowpods_list.append(line.strip())\n",
    "    trylist = []\n",
    "    trylist.append(word1)\n",
    "    counter = len(word1)-score_word(word1,word2)\n",
    "    while counter>0:\n",
    "        for i in range(len(word1)):\n",
    "            if word1[i]!=word2[i]:\n",
    "                if str(word1[:i]+word2[i]+word1[i+1:]) in sowpods_list:\n",
    "                    word1=word1[:i]+word2[i]+word1[i+1:]\n",
    "                    trylist.append(word1)\n",
    "                    counter+=-1\n",
    "            elif word1==word2:\n",
    "                break\n",
    "            else:\n",
    "                pass\n",
    "    return trylist\n",
    "print(find_path('cats','dogs'))\n",
    "print(find_path('mat','bot'))"
   ]
  },
  {
   "cell_type": "markdown",
   "metadata": {},
   "source": [
    "### Level 4 (The Summit)\n",
    "    Improve your program or function from Level 3 to return the SHORTEST path between two given words of 3 or more  letters.  Can you prove it is the shortest path?  If no path is possible, the function should state this fact.\n"
   ]
  },
  {
   "cell_type": "code",
   "execution_count": 84,
   "metadata": {},
   "outputs": [
    {
     "name": "stdout",
     "output_type": "stream",
     "text": [
      "True\n",
      "True\n",
      "['cats', 'cots', 'cogs', 'dogs']\n",
      "True\n",
      "['mat', 'bat', 'bot']\n",
      "No possible path\n",
      "No possible path\n",
      "True\n",
      "['cold', 'wold', 'wald', 'ward', 'warm']\n",
      "No possible path\n"
     ]
    }
   ],
   "source": [
    "# Level 4 Code and Functions\n",
    "def find_path(word1,word2):\n",
    "    sowpods_list=[]\n",
    "    for line in open('sowpods.txt'):\n",
    "        sowpods_list.append(line.strip())\n",
    "    trylist = []\n",
    "    trylist.append(word1)\n",
    "    counter = len(word1)-score_word(word1,word2)\n",
    "    working = True\n",
    "    while counter>0 and working == True:\n",
    "        working = False\n",
    "        for i in range(len(word1)):\n",
    "            if word1[i]!=word2[i]:\n",
    "                if str(word1[:i]+word2[i]+word1[i+1:]) in sowpods_list:\n",
    "                    word1=word1[:i]+word2[i]+word1[i+1:]\n",
    "                    trylist.append(word1)\n",
    "                    counter+=-1\n",
    "                    working = True\n",
    "            elif word1==word2:\n",
    "                break\n",
    "        if len(trylist)==1:\n",
    "            return 'No possible path'\n",
    "        print(working)\n",
    "    return trylist\n",
    "print(find_path('cats','dogs'))\n",
    "print(find_path('mat','bot'))\n",
    "print(find_path('flea','skys'))\n",
    "print(find_path('ape','man')) #should be true\n",
    "print(find_path('cold','warm'))\n",
    "print(find_path('cruel','child'))#true?"
   ]
  },
  {
   "cell_type": "code",
   "execution_count": 85,
   "metadata": {},
   "outputs": [
    {
     "ename": "TypeError",
     "evalue": "'bool' object is not iterable",
     "output_type": "error",
     "traceback": [
      "\u001b[0;31m---------------------------------------------------------------------------\u001b[0m",
      "\u001b[0;31mTypeError\u001b[0m                                 Traceback (most recent call last)",
      "\u001b[0;32m<ipython-input-85-a4fb515fa8b8>\u001b[0m in \u001b[0;36m<module>\u001b[0;34m()\u001b[0m\n\u001b[1;32m     15\u001b[0m         \u001b[0;32mreturn\u001b[0m \u001b[0;32mTrue\u001b[0m\u001b[0;34m\u001b[0m\u001b[0m\n\u001b[1;32m     16\u001b[0m \u001b[0;34m\u001b[0m\u001b[0m\n\u001b[0;32m---> 17\u001b[0;31m \u001b[0mis_possible\u001b[0m\u001b[0;34m(\u001b[0m\u001b[0;34m'ape'\u001b[0m\u001b[0;34m,\u001b[0m\u001b[0;34m'man'\u001b[0m\u001b[0;34m)\u001b[0m\u001b[0;34m\u001b[0m\u001b[0m\n\u001b[0m",
      "\u001b[0;32m<ipython-input-85-a4fb515fa8b8>\u001b[0m in \u001b[0;36mis_possible\u001b[0;34m(word1, word2)\u001b[0m\n\u001b[1;32m      6\u001b[0m         \u001b[0mold_list\u001b[0m \u001b[0;34m=\u001b[0m \u001b[0mnew_list\u001b[0m\u001b[0;34m\u001b[0m\u001b[0m\n\u001b[1;32m      7\u001b[0m         \u001b[0;32mfor\u001b[0m \u001b[0mi\u001b[0m \u001b[0;32min\u001b[0m \u001b[0mold_list\u001b[0m\u001b[0;34m:\u001b[0m\u001b[0;34m\u001b[0m\u001b[0m\n\u001b[0;32m----> 8\u001b[0;31m             \u001b[0;32mfor\u001b[0m \u001b[0mword\u001b[0m \u001b[0;32min\u001b[0m \u001b[0mall_one_away\u001b[0m\u001b[0;34m(\u001b[0m\u001b[0mi\u001b[0m\u001b[0;34m)\u001b[0m \u001b[0;32mnot\u001b[0m \u001b[0;32min\u001b[0m \u001b[0mchecked\u001b[0m\u001b[0;34m:\u001b[0m\u001b[0;34m\u001b[0m\u001b[0m\n\u001b[0m\u001b[1;32m      9\u001b[0m                 \u001b[0mchecked\u001b[0m\u001b[0;34m.\u001b[0m\u001b[0mappend\u001b[0m\u001b[0;34m(\u001b[0m\u001b[0mword\u001b[0m\u001b[0;34m)\u001b[0m\u001b[0;34m\u001b[0m\u001b[0m\n\u001b[1;32m     10\u001b[0m                 \u001b[0;32mif\u001b[0m \u001b[0mword\u001b[0m \u001b[0;32mnot\u001b[0m \u001b[0;32min\u001b[0m \u001b[0mnew_list\u001b[0m\u001b[0;34m:\u001b[0m\u001b[0;34m\u001b[0m\u001b[0m\n",
      "\u001b[0;31mTypeError\u001b[0m: 'bool' object is not iterable"
     ]
    }
   ],
   "source": [
    "def is_possible(word1,word2):\n",
    "    word_dict = {}\n",
    "    counter=1\n",
    "    appending = True\n",
    "    to_add=all_one_away(word1)\n",
    "    new_add=[]\n",
    "    already_added=[]\n",
    "    while appending == True:\n",
    "        word_dict[counter]=to_add\n",
    "        already_added=.append(to_add)\n",
    "        for word in to_add:\n",
    "            for possible in all_one_away(word):\n",
    "                if possible in already_added:\n",
    "                    pass\n",
    "                else:\n",
    "                    new_add.append(possible)\n",
    "                    \n",
    "                    \n",
    "                    \n",
    "#        if len(to_add)>0\n",
    "#    checked = []\n",
    "#    old_list = []\n",
    "#    new_list = [word1]\n",
    "#    while len(new_list)>len(old_list):\n",
    "#        old_list = new_list\n",
    "#        for i in old_list:\n",
    "#            for word in all_one_away(i):\n",
    "#                checked.append(word)\n",
    "#                if word not in checked:\n",
    "#                    new_list.append(word)\n",
    "#        print(new_list)\n",
    "#    print(new_list)\n",
    "#    if word2 in new_list:\n",
    "#        return True\n",
    "\n",
    "is_possible('ape','man')"
   ]
  },
  {
   "cell_type": "code",
   "execution_count": null,
   "metadata": {
    "collapsed": true
   },
   "outputs": [],
   "source": []
  }
 ],
 "metadata": {
  "kernelspec": {
   "display_name": "Python 3",
   "language": "python",
   "name": "python3"
  }
 },
 "nbformat": 4,
 "nbformat_minor": 1
}
